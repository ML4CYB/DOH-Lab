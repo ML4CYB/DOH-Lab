{
  "cells": [
    {
      "cell_type": "code",
      "execution_count": null,
      "metadata": {
        "id": "YtmanoNzatGV",
        "colab": {
          "base_uri": "https://localhost:8080/"
        },
        "outputId": "726aec12-5370-4963-f92e-dac5033429dc"
      },
      "outputs": [
        {
          "output_type": "stream",
          "name": "stdout",
          "text": [
            "Drive already mounted at /content/drive; to attempt to forcibly remount, call drive.mount(\"/content/drive\", force_remount=True).\n"
          ]
        }
      ],
      "source": [
        "import pandas as pd\n",
        "import numpy as np\n",
        "\n",
        "filename = 'labeledPackets.csv'\n",
        "\n",
        "\n",
        "# make a array, li, to hold both initial data frames from the CSV files\n",
        "li = []\n",
        "li.append(pd.read_csv(filename))\n",
        "\n",
        "\n",
        "data = pd.concat(li, axis=0,ignore_index=True)"
      ]
    },
    {
      "cell_type": "code",
      "execution_count": null,
      "metadata": {
        "id": "L0jVV5L9yrFY"
      },
      "outputs": [],
      "source": [
        "# preprocess the data\n",
        "#import ipaddress\n",
        "\n",
        "# loop through all indexes to preprocessdata\n",
        "for index in range(len(data)):\n",
        "  #print(index,row['SourceIP'],row['DestinationIP'])\n",
        "  #data.at[index,'SourceIP'] = int(ipaddress.IPv4Address(data.loc[index,'SourceIP']))\n",
        "  #data.at[index,'DestinationIP'] = int(ipaddress.IPv4Address(data.loc[index,'DestinationIP']))\n",
        "\n",
        "  # clean up responsetimetimemedian and responsetimetimeskewfrommedian NaN values\n",
        "  if np.isnan(data.loc[index,'ResponseTimeTimeMedian']):\n",
        "     data.at[index,'ResponseTimeTimeMedian'] = 0\n",
        "  if np.isnan(data.loc[index,'ResponseTimeTimeSkewFromMedian']):\n",
        "     data.at[index,'ResponseTimeTimeSkewFromMedian'] = 0\n",
        "\n",
        "# drop unwanted columns\n",
        "data = data.drop(['TimeStamp','SourceIP','DestinationIP','SourcePort','DestinationPort'],axis=1)\n",
        "\n",
        "# verify; check for nans left\n",
        "for col in data.columns:\n",
        "      NaNsum = data.loc[:,col].isna().sum()\n",
        "      if NaNsum > 0:\n",
        "        print(\"Col: %s NaN: %d\" % (col,NaNsum))\n",
        "\n",
        "# check the tail\n",
        "#data.tail()\n",
        "\n"
      ]
    },
    {
      "cell_type": "code",
      "execution_count": null,
      "metadata": {
        "id": "tsh7D_ZAcX09"
      },
      "outputs": [],
      "source": [
        "# get the data ready to be put into the decision tree/Naive Bayes/SVM\n",
        "from sklearn.model_selection import train_test_split\n",
        "\n",
        "# training data\n",
        "cdata = data.drop('Label', axis=1)\n",
        "labels = data['Label']\n",
        "\n",
        "# preprocess\n",
        "\n",
        "from sklearn.preprocessing import OneHotEncoder\n",
        "from sklearn.compose import ColumnTransformer\n",
        "from sklearn.preprocessing import StandardScaler\n",
        "\n",
        "#scaler = StandardScaler()\n",
        "#scaler.fit(cdata)\n",
        "#cdata = scaler.transform(cdata)\n",
        "\n",
        "#columnTransformer = ColumnTransformer([('encoder', OneHotEncoder(), [0])], remainder='passthrough')\n",
        "#cdata = np.array(columnTransformer.fit_transform(cdata), dtype = np.str)\n",
        "\n",
        "#cdata\n",
        "\n",
        "# split things up 80%/20%\n",
        "cdata_train, cdata_test, labels_train, labels_test = train_test_split(cdata,labels, test_size=0.2, random_state=1)\n",
        "\n",
        "# check nans\n",
        "#cdata_train = cdata_train.fillna(cdata_train.mean())\n"
      ]
    },
    {
      "cell_type": "code",
      "execution_count": null,
      "metadata": {
        "colab": {
          "base_uri": "https://localhost:8080/",
          "height": 75
        },
        "id": "ImUWhYfedxQe",
        "outputId": "7632a9dc-b7d3-4b31-b814-8a2cc493ae51"
      },
      "outputs": [
        {
          "output_type": "execute_result",
          "data": {
            "text/plain": [
              "DecisionTreeClassifier(max_depth=10)"
            ],
            "text/html": [
              "<style>#sk-container-id-3 {color: black;background-color: white;}#sk-container-id-3 pre{padding: 0;}#sk-container-id-3 div.sk-toggleable {background-color: white;}#sk-container-id-3 label.sk-toggleable__label {cursor: pointer;display: block;width: 100%;margin-bottom: 0;padding: 0.3em;box-sizing: border-box;text-align: center;}#sk-container-id-3 label.sk-toggleable__label-arrow:before {content: \"▸\";float: left;margin-right: 0.25em;color: #696969;}#sk-container-id-3 label.sk-toggleable__label-arrow:hover:before {color: black;}#sk-container-id-3 div.sk-estimator:hover label.sk-toggleable__label-arrow:before {color: black;}#sk-container-id-3 div.sk-toggleable__content {max-height: 0;max-width: 0;overflow: hidden;text-align: left;background-color: #f0f8ff;}#sk-container-id-3 div.sk-toggleable__content pre {margin: 0.2em;color: black;border-radius: 0.25em;background-color: #f0f8ff;}#sk-container-id-3 input.sk-toggleable__control:checked~div.sk-toggleable__content {max-height: 200px;max-width: 100%;overflow: auto;}#sk-container-id-3 input.sk-toggleable__control:checked~label.sk-toggleable__label-arrow:before {content: \"▾\";}#sk-container-id-3 div.sk-estimator input.sk-toggleable__control:checked~label.sk-toggleable__label {background-color: #d4ebff;}#sk-container-id-3 div.sk-label input.sk-toggleable__control:checked~label.sk-toggleable__label {background-color: #d4ebff;}#sk-container-id-3 input.sk-hidden--visually {border: 0;clip: rect(1px 1px 1px 1px);clip: rect(1px, 1px, 1px, 1px);height: 1px;margin: -1px;overflow: hidden;padding: 0;position: absolute;width: 1px;}#sk-container-id-3 div.sk-estimator {font-family: monospace;background-color: #f0f8ff;border: 1px dotted black;border-radius: 0.25em;box-sizing: border-box;margin-bottom: 0.5em;}#sk-container-id-3 div.sk-estimator:hover {background-color: #d4ebff;}#sk-container-id-3 div.sk-parallel-item::after {content: \"\";width: 100%;border-bottom: 1px solid gray;flex-grow: 1;}#sk-container-id-3 div.sk-label:hover label.sk-toggleable__label {background-color: #d4ebff;}#sk-container-id-3 div.sk-serial::before {content: \"\";position: absolute;border-left: 1px solid gray;box-sizing: border-box;top: 0;bottom: 0;left: 50%;z-index: 0;}#sk-container-id-3 div.sk-serial {display: flex;flex-direction: column;align-items: center;background-color: white;padding-right: 0.2em;padding-left: 0.2em;position: relative;}#sk-container-id-3 div.sk-item {position: relative;z-index: 1;}#sk-container-id-3 div.sk-parallel {display: flex;align-items: stretch;justify-content: center;background-color: white;position: relative;}#sk-container-id-3 div.sk-item::before, #sk-container-id-3 div.sk-parallel-item::before {content: \"\";position: absolute;border-left: 1px solid gray;box-sizing: border-box;top: 0;bottom: 0;left: 50%;z-index: -1;}#sk-container-id-3 div.sk-parallel-item {display: flex;flex-direction: column;z-index: 1;position: relative;background-color: white;}#sk-container-id-3 div.sk-parallel-item:first-child::after {align-self: flex-end;width: 50%;}#sk-container-id-3 div.sk-parallel-item:last-child::after {align-self: flex-start;width: 50%;}#sk-container-id-3 div.sk-parallel-item:only-child::after {width: 0;}#sk-container-id-3 div.sk-dashed-wrapped {border: 1px dashed gray;margin: 0 0.4em 0.5em 0.4em;box-sizing: border-box;padding-bottom: 0.4em;background-color: white;}#sk-container-id-3 div.sk-label label {font-family: monospace;font-weight: bold;display: inline-block;line-height: 1.2em;}#sk-container-id-3 div.sk-label-container {text-align: center;}#sk-container-id-3 div.sk-container {/* jupyter's `normalize.less` sets `[hidden] { display: none; }` but bootstrap.min.css set `[hidden] { display: none !important; }` so we also need the `!important` here to be able to override the default hidden behavior on the sphinx rendered scikit-learn.org. See: https://github.com/scikit-learn/scikit-learn/issues/21755 */display: inline-block !important;position: relative;}#sk-container-id-3 div.sk-text-repr-fallback {display: none;}</style><div id=\"sk-container-id-3\" class=\"sk-top-container\"><div class=\"sk-text-repr-fallback\"><pre>DecisionTreeClassifier(max_depth=10)</pre><b>In a Jupyter environment, please rerun this cell to show the HTML representation or trust the notebook. <br />On GitHub, the HTML representation is unable to render, please try loading this page with nbviewer.org.</b></div><div class=\"sk-container\" hidden><div class=\"sk-item\"><div class=\"sk-estimator sk-toggleable\"><input class=\"sk-toggleable__control sk-hidden--visually\" id=\"sk-estimator-id-3\" type=\"checkbox\" checked><label for=\"sk-estimator-id-3\" class=\"sk-toggleable__label sk-toggleable__label-arrow\">DecisionTreeClassifier</label><div class=\"sk-toggleable__content\"><pre>DecisionTreeClassifier(max_depth=10)</pre></div></div></div></div></div>"
            ]
          },
          "metadata": {},
          "execution_count": 20
        }
      ],
      "source": [
        "from sklearn import tree\n",
        "# make the decision tree - unlimited depth\n",
        "cls = tree.DecisionTreeClassifier()\n",
        "cls.fit(cdata_train, labels_train)\n",
        "\n",
        "# make a second decision tree - max depth 10\n",
        "clsd10 = tree.DecisionTreeClassifier(max_depth=10)\n",
        "clsd10.fit(cdata_train, labels_train)"
      ]
    },
    {
      "cell_type": "markdown",
      "metadata": {
        "id": "k9nWkvNBO0T4"
      },
      "source": []
    },
    {
      "cell_type": "code",
      "source": [
        "from sklearn.tree import export_graphviz\n",
        "from io import StringIO\n",
        "from IPython.display import Image\n",
        "import pydotplus\n",
        "\n",
        "# make the first unlimited depth tree\n",
        "dot_data = StringIO()\n",
        "export_graphviz(cls, out_file=dot_data, filled=True, rounded=True, special_characters=True, feature_names = cdata.columns, class_names=['DoH','nonDoH'])\n",
        "graph = pydotplus.graph_from_dot_data(dot_data.getvalue())\n",
        "Image(graph.create_png())"
      ],
      "metadata": {
        "id": "JH4o3du76KHR"
      },
      "execution_count": null,
      "outputs": []
    },
    {
      "cell_type": "code",
      "source": [
        "# make the second depth=10 tree\n",
        "dot_data2 = StringIO()\n",
        "export_graphviz(clsd10, out_file=dot_data2, filled=True, rounded=True, special_characters=True, feature_names = cdata.columns, class_names=['DoH','nonDoH'])\n",
        "graph2 = pydotplus.graph_from_dot_data(dot_data2.getvalue())\n",
        "Image(graph2.create_png())"
      ],
      "metadata": {
        "id": "XRJbIIRj6K8h"
      },
      "execution_count": null,
      "outputs": []
    },
    {
      "cell_type": "code",
      "execution_count": null,
      "metadata": {
        "colab": {
          "base_uri": "https://localhost:8080/"
        },
        "id": "aY6FA0LuL5oT",
        "outputId": "57686997-d0a1-4ac5-9adc-7825cb0a1dd3"
      },
      "outputs": [
        {
          "output_type": "stream",
          "name": "stdout",
          "text": [
            "Decision Tree - Unlimited depth:\n",
            "    Accuracy: 0.8333333333333334\n",
            "    (TN,FP,FN,TP): [7,4,1,18]\n",
            "    Precision: 0.818182\n",
            "    Recall: 0.947368\n",
            "    F1 score: 0.878049\n",
            "Decision Tree - Depth 10:\n",
            "    Accuracy: 0.9\n",
            "    (TN,FP,FN,TP): [10,1,2,17]\n",
            "    Precision: 0.944444\n",
            "    Recall: 0.894737\n",
            "    F1 score: 0.918919 \n"
          ]
        }
      ],
      "source": [
        "from sklearn import metrics\n",
        "\n",
        "# fit the test data\n",
        "cdata_test_pred = cls.predict(cdata_test)\n",
        "cdata_test_pred_d10 = clsd10.predict(cdata_test)\n",
        "\n",
        "# get the confusion matrix and other statistics\n",
        "tn, fp, fn, tp = metrics.confusion_matrix(labels_test,cdata_test_pred).ravel()\n",
        "precision = tp/(tp+fp)\n",
        "recall    = tp/(tp+fn)\n",
        "f1        = 2*((precision*recall)/(precision+recall))\n",
        "\n",
        "tnd10, fpd10, fnd10, tpd10 = metrics.confusion_matrix(labels_test,cdata_test_pred_d10).ravel()\n",
        "precisiond10 = tpd10/(tpd10+fpd10)\n",
        "recalld10    = tpd10/(tpd10+fnd10)\n",
        "f1d10        = 2*((precisiond10*recalld10)/(precisiond10+recalld10))\n",
        "\n",
        "# print out results\n",
        "print(\"Decision Tree - Unlimited depth:\")\n",
        "print(\"    Accuracy:\",metrics.accuracy_score(labels_test,cdata_test_pred))\n",
        "print(\"    (TN,FP,FN,TP): [%d,%d,%d,%d]\" % (tn,fp,fn,tp))\n",
        "print(\"    Precision: %f\" % precision)\n",
        "print(\"    Recall: %f\" % recall)\n",
        "print(\"    F1 score: %f\" % f1)\n",
        "\n",
        "print(\"Decision Tree - Depth 10:\")\n",
        "print(\"    Accuracy:\",metrics.accuracy_score(labels_test,cdata_test_pred_d10))\n",
        "print(\"    (TN,FP,FN,TP): [%d,%d,%d,%d]\" % (tnd10,fpd10,fnd10,tpd10))\n",
        "print(\"    Precision: %f\" % precisiond10)\n",
        "print(\"    Recall: %f\" % recalld10)\n",
        "print(\"    F1 score: %f \" % f1d10)"
      ]
    },
    {
      "cell_type": "code",
      "source": [],
      "metadata": {
        "id": "IGs9XxDx6BGP"
      },
      "execution_count": null,
      "outputs": []
    },
    {
      "cell_type": "code",
      "execution_count": null,
      "metadata": {
        "colab": {
          "base_uri": "https://localhost:8080/"
        },
        "id": "c9dMU7E8Bci9",
        "outputId": "2257a98b-d1ff-42f6-d000-a81ffa356b4a"
      },
      "outputs": [
        {
          "output_type": "stream",
          "name": "stdout",
          "text": [
            "Naive Bayes Gaussian:\n",
            "    Accuracy: 0.6333333333333333\n",
            "    (TN,FP,FN,TP): [11,0,11,8]\n",
            "    Precision: 1.000000\n",
            "    Recall: 0.421053\n",
            "    F1 score: 0.592593\n"
          ]
        }
      ],
      "source": [
        "# # gaussian naive bayes\n",
        "# from sklearn.naive_bayes import GaussianNB\n",
        "\n",
        "# gnb = GaussianNB()\n",
        "# gnb.fit(cdata_train,labels_train)\n",
        "# cdata_test_pred = gnb.predict(cdata_test)\n",
        "\n",
        "# # get the confusion matrix and other statistics\n",
        "# tn, fp, fn, tp = metrics.confusion_matrix(labels_test,cdata_test_pred).ravel()\n",
        "# precision = tp/(tp+fp)\n",
        "# recall    = tp/(tp+fn)\n",
        "# f1        = 2*((precision*recall)/(precision+recall))\n",
        "\n",
        "# # print out results\n",
        "# print(\"Naive Bayes Gaussian:\")\n",
        "# print(\"    Accuracy:\",metrics.accuracy_score(labels_test,cdata_test_pred))\n",
        "# print(\"    (TN,FP,FN,TP): [%d,%d,%d,%d]\" % (tn,fp,fn,tp))\n",
        "# print(\"    Precision: %f\" % precision)\n",
        "# print(\"    Recall: %f\" % recall)\n",
        "# print(\"    F1 score: %f\" % f1)"
      ]
    },
    {
      "cell_type": "code",
      "execution_count": null,
      "metadata": {
        "id": "bD0k02BfDGWQ",
        "colab": {
          "base_uri": "https://localhost:8080/"
        },
        "outputId": "0e7883b4-c2f6-4553-fc61-5349c4b4a09f"
      },
      "outputs": [
        {
          "output_type": "stream",
          "name": "stdout",
          "text": [
            "SVM: C: 1000, gamma: 0\n",
            "    Accuracy: 0.6333333333333333\n",
            "    (TN,FP,FN,TP): [0,11,0,19]\n",
            "    Precision: 0.633333\n",
            "    Recall: 1.000000\n",
            "    F1 score: 0.775510\n"
          ]
        }
      ],
      "source": [
        "# #SVM\n",
        "# from sklearn import svm\n",
        "# from sklearn.metrics import confusion_matrix\n",
        "\n",
        "\n",
        "# #May want to loop through these..\n",
        "# C = 1e+03\n",
        "# gamma =1e-04\n",
        "\n",
        "# clf = svm.SVC(C=C, gamma = gamma, kernel ='rbf', probability = True)\n",
        "# clf = clf.fit(cdata_train, labels_train)\n",
        "\n",
        "# labels_pred=clf.predict(cdata_test)\n",
        "\n",
        "# tn, fp, fn, tp = confusion_matrix(labels_test, labels_pred).ravel()\n",
        "# precision = tp/(tp+fp)\n",
        "# recall    = tp/(tp+fn)\n",
        "# f1        = 2*((precision*recall)/(precision+recall))\n",
        "\n",
        "# # print out results\n",
        "# print(\"SVM: C: %d, gamma: %d\" %(C, gamma))\n",
        "# print(\"    Accuracy:\",metrics.accuracy_score(labels_test,cdata_test_pred))\n",
        "# print(\"    (TN,FP,FN,TP): [%d,%d,%d,%d]\" % (tn,fp,fn,tp))\n",
        "# print(\"    Precision: %f\" % precision)\n",
        "# print(\"    Recall: %f\" % recall)\n",
        "# print(\"    F1 score: %f\" % f1)\n",
        "\n",
        "\n",
        "# #tn, fp, fn, tp, precision, recall, f1\n"
      ]
    }
  ],
  "metadata": {
    "colab": {
      "provenance": []
    },
    "kernelspec": {
      "display_name": "Python 3",
      "language": "python",
      "name": "python3"
    },
    "language_info": {
      "codemirror_mode": {
        "name": "ipython",
        "version": 3
      },
      "file_extension": ".py",
      "mimetype": "text/x-python",
      "name": "python",
      "nbconvert_exporter": "python",
      "pygments_lexer": "ipython3",
      "version": "3.8.5"
    }
  },
  "nbformat": 4,
  "nbformat_minor": 0
}